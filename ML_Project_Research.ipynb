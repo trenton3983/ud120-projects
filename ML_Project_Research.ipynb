{
 "cells": [
  {
   "cell_type": "code",
   "execution_count": 1,
   "metadata": {},
   "outputs": [],
   "source": [
    "import os\n",
    "import sys\n",
    "mod_path = os.path.abspath(os.path.join('..'))\n",
    "if mod_path not in sys.path:\n",
    "    sys.path.append(mod_path)"
   ]
  },
  {
   "cell_type": "code",
   "execution_count": 2,
   "metadata": {},
   "outputs": [],
   "source": [
    "from pprint import pprint as pp\n",
    "import pandas as pd\n",
    "import numpy as np\n",
    "import pickle\n",
    "from pathlib import Path\n",
    "from sklearn.naive_bayes import GaussianNB\n",
    "from sklearn.model_selection import train_test_split\n",
    "from sklearn.feature_selection import SelectKBest,f_classif"
   ]
  },
  {
   "cell_type": "code",
   "execution_count": 3,
   "metadata": {},
   "outputs": [],
   "source": [
    "from tools.feature_format import featureFormat, targetFeatureSplit\n",
    "from final_project.tester import dump_classifier_and_data"
   ]
  },
  {
   "cell_type": "code",
   "execution_count": 4,
   "metadata": {},
   "outputs": [
    {
     "data": {
      "text/plain": [
       "WindowsPath('E:/Users/Trenton J. McKinney/PycharmProjects/ud120-projects/tools/feature_format.py')"
      ]
     },
     "execution_count": 4,
     "metadata": {},
     "output_type": "execute_result"
    }
   ],
   "source": [
    "pwd_ = %pwd\n",
    "pwd_ = Path(pwd_)\n",
    "pwd_.joinpath('tools/feature_format.py')"
   ]
  },
  {
   "cell_type": "markdown",
   "metadata": {},
   "source": [
    "# Task 1: Select Features\n",
    "#### features_list is a list of strings, each of which is a feature name.\n",
    "#### The first feature must be \"poi\"."
   ]
  },
  {
   "cell_type": "code",
   "execution_count": 5,
   "metadata": {},
   "outputs": [],
   "source": [
    "financial_features = ['salary', 'deferral_payments', 'total_payments', 'loan_advances', 'bonus', 'restricted_stock_deferred',\n",
    "                      'deferred_income', 'total_stock_value', 'expenses', 'exercised_stock_options', 'other',\n",
    "                      'long_term_incentive', 'restricted_stock', 'director_fees']\n",
    "\n",
    "email_features = ['to_messages', 'email_address', 'from_poi_to_this_person', 'from_messages', 'from_this_person_to_poi', 'shared_receipt_with_poi']\n",
    "\n",
    "poi_label = ['poi']"
   ]
  },
  {
   "cell_type": "code",
   "execution_count": 6,
   "metadata": {},
   "outputs": [
    {
     "data": {
      "text/plain": [
       "['poi',\n",
       " 'salary',\n",
       " 'deferral_payments',\n",
       " 'total_payments',\n",
       " 'loan_advances',\n",
       " 'bonus',\n",
       " 'restricted_stock_deferred',\n",
       " 'deferred_income',\n",
       " 'total_stock_value',\n",
       " 'expenses',\n",
       " 'exercised_stock_options',\n",
       " 'other',\n",
       " 'long_term_incentive',\n",
       " 'restricted_stock',\n",
       " 'director_fees',\n",
       " 'to_messages',\n",
       " 'email_address',\n",
       " 'from_poi_to_this_person',\n",
       " 'from_messages',\n",
       " 'from_this_person_to_poi',\n",
       " 'shared_receipt_with_poi']"
      ]
     },
     "execution_count": 6,
     "metadata": {},
     "output_type": "execute_result"
    }
   ],
   "source": [
    "feature_list = []\n",
    "feature_list.extend(poi_label)\n",
    "feature_list.extend(financial_features)\n",
    "feature_list.extend(email_features)\n",
    "feature_list"
   ]
  },
  {
   "cell_type": "code",
   "execution_count": 7,
   "metadata": {},
   "outputs": [
    {
     "data": {
      "text/plain": [
       "21"
      ]
     },
     "execution_count": 7,
     "metadata": {},
     "output_type": "execute_result"
    }
   ],
   "source": [
    "len(feature_list)"
   ]
  },
  {
   "cell_type": "markdown",
   "metadata": {},
   "source": [
    "## Load Dataset"
   ]
  },
  {
   "cell_type": "code",
   "execution_count": 8,
   "metadata": {},
   "outputs": [],
   "source": [
    "# Load the dictionary containing the dataset\n",
    "with open('final_project/final_project_dataset_unix.pkl', 'rb') as data_file:\n",
    "    data_dict = pickle.load(data_file)"
   ]
  },
  {
   "cell_type": "markdown",
   "metadata": {},
   "source": [
    "## Explore Dataset"
   ]
  },
  {
   "cell_type": "code",
   "execution_count": 9,
   "metadata": {},
   "outputs": [
    {
     "data": {
      "text/html": [
       "<div>\n",
       "<style scoped>\n",
       "    .dataframe tbody tr th:only-of-type {\n",
       "        vertical-align: middle;\n",
       "    }\n",
       "\n",
       "    .dataframe tbody tr th {\n",
       "        vertical-align: top;\n",
       "    }\n",
       "\n",
       "    .dataframe thead th {\n",
       "        text-align: right;\n",
       "    }\n",
       "</style>\n",
       "<table border=\"1\" class=\"dataframe\">\n",
       "  <thead>\n",
       "    <tr style=\"text-align: right;\">\n",
       "      <th></th>\n",
       "      <th>poi</th>\n",
       "      <th>salary</th>\n",
       "      <th>deferral_payments</th>\n",
       "      <th>total_payments</th>\n",
       "      <th>loan_advances</th>\n",
       "      <th>bonus</th>\n",
       "      <th>restricted_stock_deferred</th>\n",
       "      <th>deferred_income</th>\n",
       "      <th>total_stock_value</th>\n",
       "      <th>expenses</th>\n",
       "      <th>exercised_stock_options</th>\n",
       "      <th>other</th>\n",
       "      <th>long_term_incentive</th>\n",
       "      <th>restricted_stock</th>\n",
       "      <th>director_fees</th>\n",
       "      <th>to_messages</th>\n",
       "      <th>email_address</th>\n",
       "      <th>from_poi_to_this_person</th>\n",
       "      <th>from_messages</th>\n",
       "      <th>from_this_person_to_poi</th>\n",
       "      <th>shared_receipt_with_poi</th>\n",
       "    </tr>\n",
       "  </thead>\n",
       "  <tbody>\n",
       "    <tr>\n",
       "      <th>ALLEN PHILLIP K</th>\n",
       "      <td>False</td>\n",
       "      <td>201955.0</td>\n",
       "      <td>2869717.0</td>\n",
       "      <td>4484442.0</td>\n",
       "      <td>NaN</td>\n",
       "      <td>4175000.0</td>\n",
       "      <td>-126027.0</td>\n",
       "      <td>-3081055.0</td>\n",
       "      <td>1729541.0</td>\n",
       "      <td>13868.0</td>\n",
       "      <td>1729541.0</td>\n",
       "      <td>152.0</td>\n",
       "      <td>304805.0</td>\n",
       "      <td>126027.0</td>\n",
       "      <td>NaN</td>\n",
       "      <td>2902.0</td>\n",
       "      <td>phillip.allen@enron.com</td>\n",
       "      <td>47.0</td>\n",
       "      <td>2195.0</td>\n",
       "      <td>65.0</td>\n",
       "      <td>1407.0</td>\n",
       "    </tr>\n",
       "    <tr>\n",
       "      <th>BADUM JAMES P</th>\n",
       "      <td>False</td>\n",
       "      <td>NaN</td>\n",
       "      <td>178980.0</td>\n",
       "      <td>182466.0</td>\n",
       "      <td>NaN</td>\n",
       "      <td>NaN</td>\n",
       "      <td>NaN</td>\n",
       "      <td>NaN</td>\n",
       "      <td>257817.0</td>\n",
       "      <td>3486.0</td>\n",
       "      <td>257817.0</td>\n",
       "      <td>NaN</td>\n",
       "      <td>NaN</td>\n",
       "      <td>NaN</td>\n",
       "      <td>NaN</td>\n",
       "      <td>NaN</td>\n",
       "      <td>NaN</td>\n",
       "      <td>NaN</td>\n",
       "      <td>NaN</td>\n",
       "      <td>NaN</td>\n",
       "      <td>NaN</td>\n",
       "    </tr>\n",
       "    <tr>\n",
       "      <th>BANNANTINE JAMES M</th>\n",
       "      <td>False</td>\n",
       "      <td>477.0</td>\n",
       "      <td>NaN</td>\n",
       "      <td>916197.0</td>\n",
       "      <td>NaN</td>\n",
       "      <td>NaN</td>\n",
       "      <td>-560222.0</td>\n",
       "      <td>-5104.0</td>\n",
       "      <td>5243487.0</td>\n",
       "      <td>56301.0</td>\n",
       "      <td>4046157.0</td>\n",
       "      <td>864523.0</td>\n",
       "      <td>NaN</td>\n",
       "      <td>1757552.0</td>\n",
       "      <td>NaN</td>\n",
       "      <td>566.0</td>\n",
       "      <td>james.bannantine@enron.com</td>\n",
       "      <td>39.0</td>\n",
       "      <td>29.0</td>\n",
       "      <td>0.0</td>\n",
       "      <td>465.0</td>\n",
       "    </tr>\n",
       "    <tr>\n",
       "      <th>BAXTER JOHN C</th>\n",
       "      <td>False</td>\n",
       "      <td>267102.0</td>\n",
       "      <td>1295738.0</td>\n",
       "      <td>5634343.0</td>\n",
       "      <td>NaN</td>\n",
       "      <td>1200000.0</td>\n",
       "      <td>NaN</td>\n",
       "      <td>-1386055.0</td>\n",
       "      <td>10623258.0</td>\n",
       "      <td>11200.0</td>\n",
       "      <td>6680544.0</td>\n",
       "      <td>2660303.0</td>\n",
       "      <td>1586055.0</td>\n",
       "      <td>3942714.0</td>\n",
       "      <td>NaN</td>\n",
       "      <td>NaN</td>\n",
       "      <td>NaN</td>\n",
       "      <td>NaN</td>\n",
       "      <td>NaN</td>\n",
       "      <td>NaN</td>\n",
       "      <td>NaN</td>\n",
       "    </tr>\n",
       "    <tr>\n",
       "      <th>BAY FRANKLIN R</th>\n",
       "      <td>False</td>\n",
       "      <td>239671.0</td>\n",
       "      <td>260455.0</td>\n",
       "      <td>827696.0</td>\n",
       "      <td>NaN</td>\n",
       "      <td>400000.0</td>\n",
       "      <td>-82782.0</td>\n",
       "      <td>-201641.0</td>\n",
       "      <td>63014.0</td>\n",
       "      <td>129142.0</td>\n",
       "      <td>NaN</td>\n",
       "      <td>69.0</td>\n",
       "      <td>NaN</td>\n",
       "      <td>145796.0</td>\n",
       "      <td>NaN</td>\n",
       "      <td>NaN</td>\n",
       "      <td>frank.bay@enron.com</td>\n",
       "      <td>NaN</td>\n",
       "      <td>NaN</td>\n",
       "      <td>NaN</td>\n",
       "      <td>NaN</td>\n",
       "    </tr>\n",
       "    <tr>\n",
       "      <th>BAZELIDES PHILIP J</th>\n",
       "      <td>False</td>\n",
       "      <td>80818.0</td>\n",
       "      <td>684694.0</td>\n",
       "      <td>860136.0</td>\n",
       "      <td>NaN</td>\n",
       "      <td>NaN</td>\n",
       "      <td>NaN</td>\n",
       "      <td>NaN</td>\n",
       "      <td>1599641.0</td>\n",
       "      <td>NaN</td>\n",
       "      <td>1599641.0</td>\n",
       "      <td>874.0</td>\n",
       "      <td>93750.0</td>\n",
       "      <td>NaN</td>\n",
       "      <td>NaN</td>\n",
       "      <td>NaN</td>\n",
       "      <td>NaN</td>\n",
       "      <td>NaN</td>\n",
       "      <td>NaN</td>\n",
       "      <td>NaN</td>\n",
       "      <td>NaN</td>\n",
       "    </tr>\n",
       "    <tr>\n",
       "      <th>BECK SALLY W</th>\n",
       "      <td>False</td>\n",
       "      <td>231330.0</td>\n",
       "      <td>NaN</td>\n",
       "      <td>969068.0</td>\n",
       "      <td>NaN</td>\n",
       "      <td>700000.0</td>\n",
       "      <td>NaN</td>\n",
       "      <td>NaN</td>\n",
       "      <td>126027.0</td>\n",
       "      <td>37172.0</td>\n",
       "      <td>NaN</td>\n",
       "      <td>566.0</td>\n",
       "      <td>NaN</td>\n",
       "      <td>126027.0</td>\n",
       "      <td>NaN</td>\n",
       "      <td>7315.0</td>\n",
       "      <td>sally.beck@enron.com</td>\n",
       "      <td>144.0</td>\n",
       "      <td>4343.0</td>\n",
       "      <td>386.0</td>\n",
       "      <td>2639.0</td>\n",
       "    </tr>\n",
       "  </tbody>\n",
       "</table>\n",
       "</div>"
      ],
      "text/plain": [
       "                      poi    salary  deferral_payments  total_payments  \\\n",
       "ALLEN PHILLIP K     False  201955.0          2869717.0       4484442.0   \n",
       "BADUM JAMES P       False       NaN           178980.0        182466.0   \n",
       "BANNANTINE JAMES M  False     477.0                NaN        916197.0   \n",
       "BAXTER JOHN C       False  267102.0          1295738.0       5634343.0   \n",
       "BAY FRANKLIN R      False  239671.0           260455.0        827696.0   \n",
       "BAZELIDES PHILIP J  False   80818.0           684694.0        860136.0   \n",
       "BECK SALLY W        False  231330.0                NaN        969068.0   \n",
       "\n",
       "                    loan_advances      bonus  restricted_stock_deferred  \\\n",
       "ALLEN PHILLIP K               NaN  4175000.0                  -126027.0   \n",
       "BADUM JAMES P                 NaN        NaN                        NaN   \n",
       "BANNANTINE JAMES M            NaN        NaN                  -560222.0   \n",
       "BAXTER JOHN C                 NaN  1200000.0                        NaN   \n",
       "BAY FRANKLIN R                NaN   400000.0                   -82782.0   \n",
       "BAZELIDES PHILIP J            NaN        NaN                        NaN   \n",
       "BECK SALLY W                  NaN   700000.0                        NaN   \n",
       "\n",
       "                    deferred_income  total_stock_value  expenses  \\\n",
       "ALLEN PHILLIP K          -3081055.0          1729541.0   13868.0   \n",
       "BADUM JAMES P                   NaN           257817.0    3486.0   \n",
       "BANNANTINE JAMES M          -5104.0          5243487.0   56301.0   \n",
       "BAXTER JOHN C            -1386055.0         10623258.0   11200.0   \n",
       "BAY FRANKLIN R            -201641.0            63014.0  129142.0   \n",
       "BAZELIDES PHILIP J              NaN          1599641.0       NaN   \n",
       "BECK SALLY W                    NaN           126027.0   37172.0   \n",
       "\n",
       "                    exercised_stock_options      other  long_term_incentive  \\\n",
       "ALLEN PHILLIP K                   1729541.0      152.0             304805.0   \n",
       "BADUM JAMES P                      257817.0        NaN                  NaN   \n",
       "BANNANTINE JAMES M                4046157.0   864523.0                  NaN   \n",
       "BAXTER JOHN C                     6680544.0  2660303.0            1586055.0   \n",
       "BAY FRANKLIN R                          NaN       69.0                  NaN   \n",
       "BAZELIDES PHILIP J                1599641.0      874.0              93750.0   \n",
       "BECK SALLY W                            NaN      566.0                  NaN   \n",
       "\n",
       "                    restricted_stock  director_fees  to_messages  \\\n",
       "ALLEN PHILLIP K             126027.0            NaN       2902.0   \n",
       "BADUM JAMES P                    NaN            NaN          NaN   \n",
       "BANNANTINE JAMES M         1757552.0            NaN        566.0   \n",
       "BAXTER JOHN C              3942714.0            NaN          NaN   \n",
       "BAY FRANKLIN R              145796.0            NaN          NaN   \n",
       "BAZELIDES PHILIP J               NaN            NaN          NaN   \n",
       "BECK SALLY W                126027.0            NaN       7315.0   \n",
       "\n",
       "                                 email_address  from_poi_to_this_person  \\\n",
       "ALLEN PHILLIP K        phillip.allen@enron.com                     47.0   \n",
       "BADUM JAMES P                              NaN                      NaN   \n",
       "BANNANTINE JAMES M  james.bannantine@enron.com                     39.0   \n",
       "BAXTER JOHN C                              NaN                      NaN   \n",
       "BAY FRANKLIN R             frank.bay@enron.com                      NaN   \n",
       "BAZELIDES PHILIP J                         NaN                      NaN   \n",
       "BECK SALLY W              sally.beck@enron.com                    144.0   \n",
       "\n",
       "                    from_messages  from_this_person_to_poi  \\\n",
       "ALLEN PHILLIP K            2195.0                     65.0   \n",
       "BADUM JAMES P                 NaN                      NaN   \n",
       "BANNANTINE JAMES M           29.0                      0.0   \n",
       "BAXTER JOHN C                 NaN                      NaN   \n",
       "BAY FRANKLIN R                NaN                      NaN   \n",
       "BAZELIDES PHILIP J            NaN                      NaN   \n",
       "BECK SALLY W               4343.0                    386.0   \n",
       "\n",
       "                    shared_receipt_with_poi  \n",
       "ALLEN PHILLIP K                      1407.0  \n",
       "BADUM JAMES P                           NaN  \n",
       "BANNANTINE JAMES M                    465.0  \n",
       "BAXTER JOHN C                           NaN  \n",
       "BAY FRANKLIN R                          NaN  \n",
       "BAZELIDES PHILIP J                      NaN  \n",
       "BECK SALLY W                         2639.0  "
      ]
     },
     "execution_count": 9,
     "metadata": {},
     "output_type": "execute_result"
    }
   ],
   "source": [
    "df = pd.DataFrame.from_dict(data_dict, orient='index')\n",
    "df = df.loc[:,feature_list]\n",
    "df = df.replace('NaN', np.nan)  # can't use the isnull method with 'NaN'\n",
    "pd.set_option('max_rows', 150)\n",
    "pd.set_option('max_columns', 21)\n",
    "df.head(7)"
   ]
  },
  {
   "cell_type": "code",
   "execution_count": 10,
   "metadata": {},
   "outputs": [
    {
     "data": {
      "text/plain": [
       "poi                            0\n",
       "salary                        51\n",
       "deferral_payments            107\n",
       "total_payments                21\n",
       "loan_advances                142\n",
       "bonus                         64\n",
       "restricted_stock_deferred    128\n",
       "deferred_income               97\n",
       "total_stock_value             20\n",
       "expenses                      51\n",
       "exercised_stock_options       44\n",
       "other                         53\n",
       "long_term_incentive           80\n",
       "restricted_stock              36\n",
       "director_fees                129\n",
       "to_messages                   60\n",
       "email_address                 35\n",
       "from_poi_to_this_person       60\n",
       "from_messages                 60\n",
       "from_this_person_to_poi       60\n",
       "shared_receipt_with_poi       60\n",
       "dtype: int64"
      ]
     },
     "execution_count": 10,
     "metadata": {},
     "output_type": "execute_result"
    }
   ],
   "source": [
    "df.isnull().sum()"
   ]
  },
  {
   "cell_type": "code",
   "execution_count": 11,
   "metadata": {},
   "outputs": [
    {
     "data": {
      "text/plain": [
       "False    128\n",
       "True      18\n",
       "Name: poi, dtype: int64"
      ]
     },
     "execution_count": 11,
     "metadata": {},
     "output_type": "execute_result"
    }
   ],
   "source": [
    "df['poi'].value_counts()"
   ]
  },
  {
   "cell_type": "code",
   "execution_count": 12,
   "metadata": {},
   "outputs": [
    {
     "data": {
      "text/plain": [
       "['ALLEN PHILLIP K',\n",
       " 'BADUM JAMES P',\n",
       " 'BANNANTINE JAMES M',\n",
       " 'BAXTER JOHN C',\n",
       " 'BAY FRANKLIN R',\n",
       " 'BAZELIDES PHILIP J',\n",
       " 'BECK SALLY W',\n",
       " 'BELDEN TIMOTHY N',\n",
       " 'BELFER ROBERT',\n",
       " 'BERBERIAN DAVID']"
      ]
     },
     "execution_count": 12,
     "metadata": {},
     "output_type": "execute_result"
    }
   ],
   "source": [
    "list(df.index.values)[:10]"
   ]
  },
  {
   "cell_type": "code",
   "execution_count": 13,
   "metadata": {},
   "outputs": [
    {
     "name": "stdout",
     "output_type": "stream",
     "text": [
      "poi                          False\n",
      "salary                         NaN\n",
      "deferral_payments              NaN\n",
      "total_payments                 NaN\n",
      "loan_advances                  NaN\n",
      "bonus                          NaN\n",
      "restricted_stock_deferred      NaN\n",
      "deferred_income                NaN\n",
      "total_stock_value              NaN\n",
      "expenses                       NaN\n",
      "exercised_stock_options        NaN\n",
      "other                          NaN\n",
      "long_term_incentive            NaN\n",
      "restricted_stock               NaN\n",
      "director_fees                  NaN\n",
      "to_messages                    NaN\n",
      "email_address                  NaN\n",
      "from_poi_to_this_person        NaN\n",
      "from_messages                  NaN\n",
      "from_this_person_to_poi        NaN\n",
      "shared_receipt_with_poi        NaN\n",
      "Name: LOCKHART EUGENE E, dtype: object \n",
      "\n",
      "poi                           False\n",
      "salary                          NaN\n",
      "deferral_payments               NaN\n",
      "total_payments               362096\n",
      "loan_advances                   NaN\n",
      "bonus                           NaN\n",
      "restricted_stock_deferred       NaN\n",
      "deferred_income                 NaN\n",
      "total_stock_value               NaN\n",
      "expenses                        NaN\n",
      "exercised_stock_options         NaN\n",
      "other                        362096\n",
      "long_term_incentive             NaN\n",
      "restricted_stock                NaN\n",
      "director_fees                   NaN\n",
      "to_messages                     NaN\n",
      "email_address                   NaN\n",
      "from_poi_to_this_person         NaN\n",
      "from_messages                   NaN\n",
      "from_this_person_to_poi         NaN\n",
      "shared_receipt_with_poi         NaN\n",
      "Name: THE TRAVEL AGENCY IN THE PARK, dtype: object \n",
      "\n",
      "poi                                False\n",
      "salary                       2.67042e+07\n",
      "deferral_payments            3.20834e+07\n",
      "total_payments               3.09887e+08\n",
      "loan_advances                 8.3925e+07\n",
      "bonus                        9.73436e+07\n",
      "restricted_stock_deferred   -7.57679e+06\n",
      "deferred_income             -2.79929e+07\n",
      "total_stock_value             4.3451e+08\n",
      "expenses                      5.2352e+06\n",
      "exercised_stock_options      3.11764e+08\n",
      "other                        4.26676e+07\n",
      "long_term_incentive          4.85219e+07\n",
      "restricted_stock             1.30322e+08\n",
      "director_fees                1.39852e+06\n",
      "to_messages                          NaN\n",
      "email_address                        NaN\n",
      "from_poi_to_this_person              NaN\n",
      "from_messages                        NaN\n",
      "from_this_person_to_poi              NaN\n",
      "shared_receipt_with_poi              NaN\n",
      "Name: TOTAL, dtype: object\n"
     ]
    }
   ],
   "source": [
    "print(df.loc['LOCKHART EUGENE E'], '\\n')\n",
    "print(df.loc['THE TRAVEL AGENCY IN THE PARK'], '\\n')\n",
    "print(df.loc['TOTAL'])"
   ]
  },
  {
   "cell_type": "markdown",
   "metadata": {},
   "source": [
    "# Task 2: Remove Outliers"
   ]
  },
  {
   "cell_type": "markdown",
   "metadata": {},
   "source": [
    "## Remove from DataFrame"
   ]
  },
  {
   "cell_type": "code",
   "execution_count": 14,
   "metadata": {},
   "outputs": [],
   "source": [
    "outlier_keys = ['TOTAL','LOCKHART EUGENE E','THE TRAVEL AGENCY IN THE PARK']\n",
    "df =df.drop(outlier_keys)"
   ]
  },
  {
   "cell_type": "markdown",
   "metadata": {},
   "source": [
    "## Remove from DataDict"
   ]
  },
  {
   "cell_type": "code",
   "execution_count": 15,
   "metadata": {},
   "outputs": [],
   "source": [
    "outliers = ['THE TRAVEL AGENCY IN THE PARK', 'LOCKHART EUGENE E', 'TOTAL']\n",
    "for value in outliers:\n",
    "    del data_dict[value]"
   ]
  },
  {
   "cell_type": "markdown",
   "metadata": {},
   "source": [
    "# Task 3: Create New Features"
   ]
  },
  {
   "cell_type": "markdown",
   "metadata": {},
   "source": [
    "## Evaluate Current Features"
   ]
  },
  {
   "cell_type": "code",
   "execution_count": 16,
   "metadata": {},
   "outputs": [],
   "source": [
    "def select_k_best(features: np.ndarray, labels: list, k: str='all', classifier=f_classif) -> pd.DataFrame:\n",
    "    \"\"\"\n",
    "    Wrapper function for SelectKBest\n",
    "    input:\n",
    "        features (np.ndarray)\n",
    "        labels (list)\n",
    "        k (int or 'all'): how many features to use\n",
    "        classifier (function): http://scikit-learn.org/stable/modules/generated/sklearn.feature_selection.SelectKBest.html#sklearn.feature_selection.SelectKBest\n",
    "    \"\"\"\n",
    "    feature_selector = SelectKBest(classifier, k)\n",
    "    feature_selector.fit(features, labels)\n",
    "    features = feature_selector.transform(features)\n",
    "    feature_scores = list(zip(feature_list[1:], feature_selector.scores_))\n",
    "    score_chart_df = pd.DataFrame(feature_scores, columns=['Feature', 'Score'])\n",
    "    return score_chart_df.sort_values(by=['Score'], ascending=False)"
   ]
  },
  {
   "cell_type": "markdown",
   "metadata": {},
   "source": [
    "### Feature Selection with DataFrame and SelectKBest"
   ]
  },
  {
   "cell_type": "code",
   "execution_count": 17,
   "metadata": {},
   "outputs": [
    {
     "data": {
      "text/html": [
       "<div>\n",
       "<style scoped>\n",
       "    .dataframe tbody tr th:only-of-type {\n",
       "        vertical-align: middle;\n",
       "    }\n",
       "\n",
       "    .dataframe tbody tr th {\n",
       "        vertical-align: top;\n",
       "    }\n",
       "\n",
       "    .dataframe thead th {\n",
       "        text-align: right;\n",
       "    }\n",
       "</style>\n",
       "<table border=\"1\" class=\"dataframe\">\n",
       "  <thead>\n",
       "    <tr style=\"text-align: right;\">\n",
       "      <th></th>\n",
       "      <th>Feature</th>\n",
       "      <th>Score</th>\n",
       "    </tr>\n",
       "  </thead>\n",
       "  <tbody>\n",
       "    <tr>\n",
       "      <th>9</th>\n",
       "      <td>exercised_stock_options</td>\n",
       "      <td>24.815080</td>\n",
       "    </tr>\n",
       "    <tr>\n",
       "      <th>7</th>\n",
       "      <td>total_stock_value</td>\n",
       "      <td>24.182899</td>\n",
       "    </tr>\n",
       "    <tr>\n",
       "      <th>4</th>\n",
       "      <td>bonus</td>\n",
       "      <td>20.792252</td>\n",
       "    </tr>\n",
       "    <tr>\n",
       "      <th>0</th>\n",
       "      <td>salary</td>\n",
       "      <td>18.289684</td>\n",
       "    </tr>\n",
       "    <tr>\n",
       "      <th>6</th>\n",
       "      <td>deferred_income</td>\n",
       "      <td>11.458477</td>\n",
       "    </tr>\n",
       "    <tr>\n",
       "      <th>11</th>\n",
       "      <td>long_term_incentive</td>\n",
       "      <td>9.922186</td>\n",
       "    </tr>\n",
       "    <tr>\n",
       "      <th>12</th>\n",
       "      <td>restricted_stock</td>\n",
       "      <td>9.212811</td>\n",
       "    </tr>\n",
       "    <tr>\n",
       "      <th>2</th>\n",
       "      <td>total_payments</td>\n",
       "      <td>8.772778</td>\n",
       "    </tr>\n",
       "    <tr>\n",
       "      <th>18</th>\n",
       "      <td>from_this_person_to_poi</td>\n",
       "      <td>8.589421</td>\n",
       "    </tr>\n",
       "    <tr>\n",
       "      <th>3</th>\n",
       "      <td>loan_advances</td>\n",
       "      <td>7.184056</td>\n",
       "    </tr>\n",
       "    <tr>\n",
       "      <th>8</th>\n",
       "      <td>expenses</td>\n",
       "      <td>6.094173</td>\n",
       "    </tr>\n",
       "    <tr>\n",
       "      <th>15</th>\n",
       "      <td>email_address</td>\n",
       "      <td>5.243450</td>\n",
       "    </tr>\n",
       "    <tr>\n",
       "      <th>10</th>\n",
       "      <td>other</td>\n",
       "      <td>4.187478</td>\n",
       "    </tr>\n",
       "    <tr>\n",
       "      <th>17</th>\n",
       "      <td>from_messages</td>\n",
       "      <td>2.382612</td>\n",
       "    </tr>\n",
       "    <tr>\n",
       "      <th>13</th>\n",
       "      <td>director_fees</td>\n",
       "      <td>2.126328</td>\n",
       "    </tr>\n",
       "    <tr>\n",
       "      <th>14</th>\n",
       "      <td>to_messages</td>\n",
       "      <td>1.646341</td>\n",
       "    </tr>\n",
       "    <tr>\n",
       "      <th>1</th>\n",
       "      <td>deferral_payments</td>\n",
       "      <td>0.224611</td>\n",
       "    </tr>\n",
       "    <tr>\n",
       "      <th>16</th>\n",
       "      <td>from_poi_to_this_person</td>\n",
       "      <td>0.169701</td>\n",
       "    </tr>\n",
       "    <tr>\n",
       "      <th>5</th>\n",
       "      <td>restricted_stock_deferred</td>\n",
       "      <td>0.065500</td>\n",
       "    </tr>\n",
       "  </tbody>\n",
       "</table>\n",
       "</div>"
      ],
      "text/plain": [
       "                      Feature      Score\n",
       "9     exercised_stock_options  24.815080\n",
       "7           total_stock_value  24.182899\n",
       "4                       bonus  20.792252\n",
       "0                      salary  18.289684\n",
       "6             deferred_income  11.458477\n",
       "11        long_term_incentive   9.922186\n",
       "12           restricted_stock   9.212811\n",
       "2              total_payments   8.772778\n",
       "18    from_this_person_to_poi   8.589421\n",
       "3               loan_advances   7.184056\n",
       "8                    expenses   6.094173\n",
       "15              email_address   5.243450\n",
       "10                      other   4.187478\n",
       "17              from_messages   2.382612\n",
       "13              director_fees   2.126328\n",
       "14                to_messages   1.646341\n",
       "1           deferral_payments   0.224611\n",
       "16    from_poi_to_this_person   0.169701\n",
       "5   restricted_stock_deferred   0.065500"
      ]
     },
     "execution_count": 17,
     "metadata": {},
     "output_type": "execute_result"
    }
   ],
   "source": [
    "# In order to perform calculations\n",
    "df = df.replace(np.nan, 0.0)\n",
    "df['poi'] = df['poi'].replace([False, True], [0.0, 1.0])\n",
    "\n",
    "features_df = list(df.columns.values)\n",
    "features_df.remove('poi')\n",
    "features_df.remove('email_address')\n",
    "\n",
    "select_k_best(features=df[features_df].values, labels=df['poi'].values)"
   ]
  },
  {
   "cell_type": "markdown",
   "metadata": {},
   "source": [
    "### Feature Selection with DataDict and SelectKBest"
   ]
  },
  {
   "cell_type": "code",
   "execution_count": 18,
   "metadata": {},
   "outputs": [
    {
     "data": {
      "text/html": [
       "<div>\n",
       "<style scoped>\n",
       "    .dataframe tbody tr th:only-of-type {\n",
       "        vertical-align: middle;\n",
       "    }\n",
       "\n",
       "    .dataframe tbody tr th {\n",
       "        vertical-align: top;\n",
       "    }\n",
       "\n",
       "    .dataframe thead th {\n",
       "        text-align: right;\n",
       "    }\n",
       "</style>\n",
       "<table border=\"1\" class=\"dataframe\">\n",
       "  <thead>\n",
       "    <tr style=\"text-align: right;\">\n",
       "      <th></th>\n",
       "      <th>Feature</th>\n",
       "      <th>Score</th>\n",
       "    </tr>\n",
       "  </thead>\n",
       "  <tbody>\n",
       "    <tr>\n",
       "      <th>9</th>\n",
       "      <td>exercised_stock_options</td>\n",
       "      <td>24.815080</td>\n",
       "    </tr>\n",
       "    <tr>\n",
       "      <th>7</th>\n",
       "      <td>total_stock_value</td>\n",
       "      <td>24.182899</td>\n",
       "    </tr>\n",
       "    <tr>\n",
       "      <th>4</th>\n",
       "      <td>bonus</td>\n",
       "      <td>20.792252</td>\n",
       "    </tr>\n",
       "    <tr>\n",
       "      <th>0</th>\n",
       "      <td>salary</td>\n",
       "      <td>18.289684</td>\n",
       "    </tr>\n",
       "    <tr>\n",
       "      <th>6</th>\n",
       "      <td>deferred_income</td>\n",
       "      <td>11.458477</td>\n",
       "    </tr>\n",
       "    <tr>\n",
       "      <th>11</th>\n",
       "      <td>long_term_incentive</td>\n",
       "      <td>9.922186</td>\n",
       "    </tr>\n",
       "    <tr>\n",
       "      <th>12</th>\n",
       "      <td>restricted_stock</td>\n",
       "      <td>9.212811</td>\n",
       "    </tr>\n",
       "    <tr>\n",
       "      <th>2</th>\n",
       "      <td>total_payments</td>\n",
       "      <td>8.772778</td>\n",
       "    </tr>\n",
       "    <tr>\n",
       "      <th>18</th>\n",
       "      <td>shared_receipt_with_poi</td>\n",
       "      <td>8.589421</td>\n",
       "    </tr>\n",
       "    <tr>\n",
       "      <th>3</th>\n",
       "      <td>loan_advances</td>\n",
       "      <td>7.184056</td>\n",
       "    </tr>\n",
       "    <tr>\n",
       "      <th>8</th>\n",
       "      <td>expenses</td>\n",
       "      <td>6.094173</td>\n",
       "    </tr>\n",
       "    <tr>\n",
       "      <th>15</th>\n",
       "      <td>from_poi_to_this_person</td>\n",
       "      <td>5.243450</td>\n",
       "    </tr>\n",
       "    <tr>\n",
       "      <th>10</th>\n",
       "      <td>other</td>\n",
       "      <td>4.187478</td>\n",
       "    </tr>\n",
       "    <tr>\n",
       "      <th>17</th>\n",
       "      <td>from_this_person_to_poi</td>\n",
       "      <td>2.382612</td>\n",
       "    </tr>\n",
       "    <tr>\n",
       "      <th>13</th>\n",
       "      <td>director_fees</td>\n",
       "      <td>2.126328</td>\n",
       "    </tr>\n",
       "    <tr>\n",
       "      <th>14</th>\n",
       "      <td>to_messages</td>\n",
       "      <td>1.646341</td>\n",
       "    </tr>\n",
       "    <tr>\n",
       "      <th>1</th>\n",
       "      <td>deferral_payments</td>\n",
       "      <td>0.224611</td>\n",
       "    </tr>\n",
       "    <tr>\n",
       "      <th>16</th>\n",
       "      <td>from_messages</td>\n",
       "      <td>0.169701</td>\n",
       "    </tr>\n",
       "    <tr>\n",
       "      <th>5</th>\n",
       "      <td>restricted_stock_deferred</td>\n",
       "      <td>0.065500</td>\n",
       "    </tr>\n",
       "  </tbody>\n",
       "</table>\n",
       "</div>"
      ],
      "text/plain": [
       "                      Feature      Score\n",
       "9     exercised_stock_options  24.815080\n",
       "7           total_stock_value  24.182899\n",
       "4                       bonus  20.792252\n",
       "0                      salary  18.289684\n",
       "6             deferred_income  11.458477\n",
       "11        long_term_incentive   9.922186\n",
       "12           restricted_stock   9.212811\n",
       "2              total_payments   8.772778\n",
       "18    shared_receipt_with_poi   8.589421\n",
       "3               loan_advances   7.184056\n",
       "8                    expenses   6.094173\n",
       "15    from_poi_to_this_person   5.243450\n",
       "10                      other   4.187478\n",
       "17    from_this_person_to_poi   2.382612\n",
       "13              director_fees   2.126328\n",
       "14                to_messages   1.646341\n",
       "1           deferral_payments   0.224611\n",
       "16              from_messages   0.169701\n",
       "5   restricted_stock_deferred   0.065500"
      ]
     },
     "execution_count": 18,
     "metadata": {},
     "output_type": "execute_result"
    }
   ],
   "source": [
    "# Remove categorical features\n",
    "feature_list.remove('email_address')\n",
    "\n",
    "# Uses the UDACITY ML Class method of formatting the labels and features\n",
    "# 'poi' removed inside featureFormat\n",
    "data = featureFormat(data_dict, feature_list, sort_keys = True)\n",
    "labels, features = targetFeatureSplit(data)\n",
    "\n",
    "# Call selectKbest wrapper\n",
    "select_k_best(features=features, labels=labels)"
   ]
  },
  {
   "cell_type": "markdown",
   "metadata": {},
   "source": [
    "## Engineer New Features"
   ]
  },
  {
   "cell_type": "code",
   "execution_count": null,
   "metadata": {},
   "outputs": [],
   "source": []
  },
  {
   "cell_type": "code",
   "execution_count": null,
   "metadata": {},
   "outputs": [],
   "source": []
  },
  {
   "cell_type": "code",
   "execution_count": null,
   "metadata": {},
   "outputs": [],
   "source": []
  },
  {
   "cell_type": "code",
   "execution_count": null,
   "metadata": {},
   "outputs": [],
   "source": []
  },
  {
   "cell_type": "code",
   "execution_count": 69,
   "metadata": {},
   "outputs": [],
   "source": [
    "from sklearn.metrics import confusion_matrix, accuracy_score, precision_score, recall_score\n",
    "import itertools"
   ]
  },
  {
   "cell_type": "code",
   "execution_count": 141,
   "metadata": {},
   "outputs": [],
   "source": [
    "def plot_confusion_matrix(cm, classes,\n",
    "                          normalize=False,\n",
    "                          title='Confusion matrix',\n",
    "                          cmap=plt.cm.Blues):\n",
    "    \"\"\"\n",
    "    This function prints and plots the confusion matrix.\n",
    "    Normalization can be applied by setting `normalize=True`.\n",
    "    From:\n",
    "        http://scikit-learn.org/stable/auto_examples/model_selection/plot_confusion_matrix.html#sphx-glr-auto-\n",
    "        examples-model-selection-plot-confusion-matrix-py\n",
    "    \"\"\"\n",
    "    if normalize:\n",
    "        cm = cm.astype('float') / cm.sum(axis=1)[:, np.newaxis]\n",
    "        print(\"Normalized confusion matrix\")\n",
    "    else:\n",
    "        print('Confusion matrix, without normalization')\n",
    "\n",
    "    # print(cm)\n",
    "\n",
    "    plt.imshow(cm, interpolation='nearest', cmap=cmap)\n",
    "    plt.title(title)\n",
    "    plt.colorbar()\n",
    "    tick_marks = np.arange(len(classes))\n",
    "    plt.xticks(tick_marks, classes, rotation=45)\n",
    "    plt.yticks(tick_marks, classes)\n",
    "\n",
    "    fmt = '.2f' if normalize else 'd'\n",
    "    thresh = cm.max() / 2.\n",
    "    for i, j in itertools.product(range(cm.shape[0]), range(cm.shape[1])):\n",
    "        plt.text(j, i, format(cm[i, j], fmt),\n",
    "                 horizontalalignment=\"center\",\n",
    "                 color=\"white\" if cm[i, j] > thresh else \"black\")\n",
    "\n",
    "    plt.tight_layout()\n",
    "    plt.ylabel('True label')\n",
    "    plt.xlabel('Predicted label')\n",
    "\n",
    "\n",
    "np.set_printoptions(precision=2)\n",
    "class_names = ['Not POI', 'POI']"
   ]
  },
  {
   "cell_type": "markdown",
   "metadata": {},
   "source": [
    "# Model Testing"
   ]
  },
  {
   "cell_type": "code",
   "execution_count": 30,
   "metadata": {},
   "outputs": [],
   "source": [
    "from sklearn.naive_bayes import GaussianNB\n",
    "from sklearn.linear_model import LogisticRegression\n",
    "from sklearn.tree import DecisionTreeClassifier\n",
    "from sklearn.ensemble import AdaBoostClassifier, RandomForestClassifier\n",
    "from sklearn.svm import LinearSVC, SVC\n",
    "from sklearn.neighbors import KNeighborsClassifier"
   ]
  },
  {
   "cell_type": "code",
   "execution_count": 20,
   "metadata": {},
   "outputs": [],
   "source": [
    "############### Grid search\n",
    "\n",
    "from sklearn.pipeline import Pipeline\n",
    "from sklearn import preprocessing\n",
    "from sklearn.preprocessing import MinMaxScaler\n",
    "from sklearn.decomposition import PCA"
   ]
  },
  {
   "cell_type": "code",
   "execution_count": 31,
   "metadata": {},
   "outputs": [],
   "source": [
    "from sklearn.model_selection import StratifiedShuffleSplit, GridSearchCV\n",
    "from sklearn import grid_search\n",
    "from time import time"
   ]
  },
  {
   "cell_type": "code",
   "execution_count": null,
   "metadata": {},
   "outputs": [],
   "source": []
  },
  {
   "cell_type": "code",
   "execution_count": 182,
   "metadata": {},
   "outputs": [],
   "source": [
    "def model_response(clf):\n",
    "    clf.fit(features_train, labels_train)\n",
    "    score_ = clf.score(features_test, labels_test)\n",
    "    print('Score: ', score_)\n",
    "    prediction_ = clf.predict(features_test)\n",
    "    unique, counts = np.unique(prediction_, return_counts=True)\n",
    "    pois_in_test_set = dict(zip(unique, counts))\n",
    "    print('Test Set: ', pois_in_test_set)\n",
    "    try:\n",
    "        print('POIs in Test Set: ', pois_in_test_set[1])\n",
    "    except KeyError:\n",
    "        print('POIs in Test Set: ', 0)\n",
    "    precision_ = precision_score(labels_test, prediction_)\n",
    "    print('Precision: ', precision_)\n",
    "    recall_ = recall_score(labels_test, prediction_)\n",
    "    print('Recall: ', recall_)\n",
    "    \n",
    "    # Plot non-normalized confusion matrix\n",
    "    poi_confusion_matrix = confusion_matrix(labels_test, prediction_, labels=[0, 1])\n",
    "    plt.figure()\n",
    "    plot_confusion_matrix(poi_confusion_matrix, classes=class_names, title='Confusion Matrix')\n",
    "    plt.show()\n",
    "    \n",
    "    print('Number of True Positives: ', poi_confusion_matrix[1][1])"
   ]
  },
  {
   "cell_type": "code",
   "execution_count": 179,
   "metadata": {},
   "outputs": [],
   "source": [
    "features_train, features_test, labels_train, labels_test = train_test_split(features, labels, train_size=0.7, test_size=0.3, random_state=42)"
   ]
  },
  {
   "cell_type": "markdown",
   "metadata": {},
   "source": [
    "### Model 1"
   ]
  },
  {
   "cell_type": "code",
   "execution_count": 143,
   "metadata": {},
   "outputs": [
    {
     "name": "stdout",
     "output_type": "stream",
     "text": [
      "Score:  0.8372093023255814\n",
      "Test Set:  {0.0: 39, 1.0: 4}\n",
      "POIs in Test Set:  4\n",
      "Precision:  0.25\n",
      "Recall:  0.2\n",
      "Confusion matrix, without normalization\n"
     ]
    },
    {
     "data": {
      "image/png": "[encoded data removed]",
      "text/plain": [
       "<Figure size 432x288 with 2 Axes>"
      ]
     },
     "metadata": {},
     "output_type": "display_data"
    },
    {
     "name": "stdout",
     "output_type": "stream",
     "text": [
      "Number of True Positives:  1\n"
     ]
    }
   ],
   "source": [
    "clf = DecisionTreeClassifier()\n",
    "'''\n",
    "clf = DecisionTreeClassifier(class_weight=None, criterion='gini', max_depth=None,\n",
    "            max_features=None, max_leaf_nodes=None,\n",
    "            min_impurity_decrease=0.0, min_impurity_split=None,\n",
    "            min_samples_leaf=1, min_samples_split=2,\n",
    "            min_weight_fraction_leaf=0.0, presort=False, random_state=None,\n",
    "            splitter='best')\n",
    "'''\n",
    "model_response(clf)"
   ]
  },
  {
   "cell_type": "markdown",
   "metadata": {},
   "source": [
    "### Model 2"
   ]
  },
  {
   "cell_type": "code",
   "execution_count": 24,
   "metadata": {},
   "outputs": [],
   "source": [
    "from sklearn.ensemble import ExtraTreesClassifier"
   ]
  },
  {
   "cell_type": "code",
   "execution_count": 149,
   "metadata": {},
   "outputs": [
    {
     "name": "stdout",
     "output_type": "stream",
     "text": [
      "Score:  0.8604651162790697\n",
      "Test Set:  {0.0: 40, 1.0: 3}\n",
      "POIs in Test Set:  3\n",
      "Precision:  0.3333333333333333\n",
      "Recall:  0.2\n",
      "Confusion matrix, without normalization\n"
     ]
    },
    {
     "data": {
      "image/png": "[encoded data removed]",
      "text/plain": [
       "<Figure size 432x288 with 2 Axes>"
      ]
     },
     "metadata": {},
     "output_type": "display_data"
    },
    {
     "name": "stdout",
     "output_type": "stream",
     "text": [
      "Number of True Positives:  1\n"
     ]
    }
   ],
   "source": [
    "clf = ExtraTreesClassifier()\n",
    "# clf = ExtraTreesClassifier(bootstrap=True, criterion=\"gini\", max_features=0.6000000000000001, min_samples_leaf=1, min_samples_split=8, n_estimators=100)\n",
    "\n",
    "model_response(clf)"
   ]
  },
  {
   "cell_type": "markdown",
   "metadata": {},
   "source": [
    "### Model 3"
   ]
  },
  {
   "cell_type": "code",
   "execution_count": 26,
   "metadata": {},
   "outputs": [],
   "source": [
    "from sklearn.ensemble import GradientBoostingClassifier\n",
    "from sklearn.linear_model import LogisticRegression\n",
    "\n",
    "from sklearn.pipeline import make_pipeline, make_union\n",
    "from tpot.builtins import StackingEstimator"
   ]
  },
  {
   "cell_type": "code",
   "execution_count": 145,
   "metadata": {},
   "outputs": [
    {
     "name": "stdout",
     "output_type": "stream",
     "text": [
      "Score:  0.9069767441860465\n",
      "Test Set:  {0.0: 42, 1.0: 1}\n",
      "POIs in Test Set:  1\n",
      "Precision:  1.0\n",
      "Recall:  0.2\n",
      "Confusion matrix, without normalization\n"
     ]
    },
    {
     "data": {
      "image/png": "[encoded data removed]",
      "text/plain": [
       "<Figure size 432x288 with 2 Axes>"
      ]
     },
     "metadata": {},
     "output_type": "display_data"
    },
    {
     "name": "stdout",
     "output_type": "stream",
     "text": [
      "Number of True Positives:  1\n"
     ]
    }
   ],
   "source": [
    "clf = make_pipeline(\n",
    "    StackingEstimator(estimator=LogisticRegression(C=1.0, dual=False, penalty=\"l2\")),\n",
    "    GradientBoostingClassifier(learning_rate=0.01, max_depth=6, max_features=0.1, min_samples_leaf=1, min_samples_split=13, n_estimators=100, subsample=0.6000000000000001)\n",
    ")\n",
    "\n",
    "model_response(clf)"
   ]
  },
  {
   "cell_type": "markdown",
   "metadata": {},
   "source": [
    "### Model 4"
   ]
  },
  {
   "cell_type": "code",
   "execution_count": 146,
   "metadata": {},
   "outputs": [
    {
     "name": "stdout",
     "output_type": "stream",
     "text": [
      "Score:  0.8372093023255814\n",
      "Test Set:  {0.0: 39, 1.0: 4}\n",
      "POIs in Test Set:  4\n",
      "Precision:  0.25\n",
      "Recall:  0.2\n",
      "Confusion matrix, without normalization\n"
     ]
    },
    {
     "data": {
      "image/png": "[encoded data removed]",
      "text/plain": [
       "<Figure size 432x288 with 2 Axes>"
      ]
     },
     "metadata": {},
     "output_type": "display_data"
    },
    {
     "name": "stdout",
     "output_type": "stream",
     "text": [
      "Number of True Positives:  1\n"
     ]
    }
   ],
   "source": [
    "dt = DecisionTreeClassifier()\n",
    "param_grid = {}\n",
    "clf = GridSearchCV(dt, param_grid)\n",
    "\n",
    "model_response(clf)"
   ]
  },
  {
   "cell_type": "markdown",
   "metadata": {},
   "source": [
    "# TPOT"
   ]
  },
  {
   "cell_type": "markdown",
   "metadata": {},
   "source": [
    "* https://epistasislab.github.io/tpot/\n",
    "* https://github.com/EpistasisLab/tpot"
   ]
  },
  {
   "cell_type": "code",
   "execution_count": 33,
   "metadata": {},
   "outputs": [],
   "source": [
    "from tpot import TPOTRegressor\n",
    "from tpot import TPOTClassifier"
   ]
  },
  {
   "cell_type": "markdown",
   "metadata": {},
   "source": [
    "### TPOT Test 1"
   ]
  },
  {
   "cell_type": "code",
   "execution_count": 187,
   "metadata": {},
   "outputs": [
    {
     "name": "stdout",
     "output_type": "stream",
     "text": [
      "Warning: xgboost.XGBClassifier is not available and will not be used by TPOT.\n"
     ]
    },
    {
     "name": "stderr",
     "output_type": "stream",
     "text": []
    },
    {
     "name": "stdout",
     "output_type": "stream",
     "text": [
      "Generation 1 - Current best internal CV score: 0.8897994987468671\n"
     ]
    },
    {
     "name": "stderr",
     "output_type": "stream",
     "text": []
    },
    {
     "name": "stdout",
     "output_type": "stream",
     "text": [
      "Generation 2 - Current best internal CV score: 0.8902756892230576\n"
     ]
    },
    {
     "name": "stderr",
     "output_type": "stream",
     "text": []
    },
    {
     "name": "stdout",
     "output_type": "stream",
     "text": [
      "Generation 3 - Current best internal CV score: 0.8902756892230576\n"
     ]
    },
    {
     "name": "stderr",
     "output_type": "stream",
     "text": []
    },
    {
     "name": "stdout",
     "output_type": "stream",
     "text": [
      "Generation 4 - Current best internal CV score: 0.8902756892230576\n"
     ]
    },
    {
     "name": "stderr",
     "output_type": "stream",
     "text": []
    },
    {
     "name": "stdout",
     "output_type": "stream",
     "text": [
      "Generation 5 - Current best internal CV score: 0.8902756892230576\n"
     ]
    },
    {
     "name": "stderr",
     "output_type": "stream",
     "text": []
    },
    {
     "name": "stdout",
     "output_type": "stream",
     "text": [
      "\n",
      "Best pipeline: KNeighborsClassifier(input_matrix, n_neighbors=3, p=1, weights=uniform)\n"
     ]
    },
    {
     "data": {
      "text/plain": [
       "TPOTClassifier(config_dict={'sklearn.naive_bayes.GaussianNB': {}, 'sklearn.naive_bayes.BernoulliNB': {'alpha': [0.001, 0.01, 0.1, 1.0, 10.0, 100.0], 'fit_prior': [True, False]}, 'sklearn.naive_bayes.MultinomialNB': {'alpha': [0.001, 0.01, 0.1, 1.0, 10.0, 100.0], 'fit_prior': [True, False]}, 'sklearn.tree.DecisionT....3 , 0.35, 0.4 , 0.45, 0.5 , 0.55,\n",
       "       0.6 , 0.65, 0.7 , 0.75, 0.8 , 0.85, 0.9 , 0.95, 1.  ])}}}},\n",
       "        crossover_rate=0.1, cv=5, disable_update_check=False,\n",
       "        early_stop=None, generations=5, max_eval_time_mins=5,\n",
       "        max_time_mins=None, memory=None, mutation_rate=0.9, n_jobs=1,\n",
       "        offspring_size=20, periodic_checkpoint_folder=None,\n",
       "        population_size=20, random_state=None, scoring=None, subsample=1.0,\n",
       "        verbosity=2, warm_start=False)"
      ]
     },
     "execution_count": 187,
     "metadata": {},
     "output_type": "execute_result"
    }
   ],
   "source": [
    "X_train = features_train\n",
    "X_test = features_test\n",
    "y_train = labels_train\n",
    "y_test = labels_test\n",
    "\n",
    "tpot = TPOTClassifier(generations=5, population_size=20, verbosity=2)\n",
    "tpot.fit(X_train, y_train)"
   ]
  },
  {
   "cell_type": "code",
   "execution_count": null,
   "metadata": {},
   "outputs": [],
   "source": [
    "# print(tpot.score(X_test, y_test))"
   ]
  },
  {
   "cell_type": "code",
   "execution_count": 188,
   "metadata": {},
   "outputs": [
    {
     "data": {
      "text/plain": [
       "True"
      ]
     },
     "execution_count": 188,
     "metadata": {},
     "output_type": "execute_result"
    }
   ],
   "source": [
    "tpot.export('tpot_mnist_pipeline.py')"
   ]
  },
  {
   "cell_type": "markdown",
   "metadata": {},
   "source": [
    "### TPOT Test 1 Manual Implementation Test (a)"
   ]
  },
  {
   "cell_type": "code",
   "execution_count": 37,
   "metadata": {},
   "outputs": [],
   "source": [
    "from sklearn.ensemble import ExtraTreesClassifier"
   ]
  },
  {
   "cell_type": "code",
   "execution_count": 180,
   "metadata": {},
   "outputs": [
    {
     "name": "stdout",
     "output_type": "stream",
     "text": [
      "Score:  0.8837209302325582\n",
      "Test Set:  {0.0: 41, 1.0: 2}\n",
      "POIs in Test Set:  2\n",
      "Precision:  0.5\n",
      "Recall:  0.2\n",
      "Confusion matrix, without normalization\n"
     ]
    },
    {
     "data": {
      "image/png": "[encoded data removed]",
      "text/plain": [
       "<Figure size 432x288 with 2 Axes>"
      ]
     },
     "metadata": {},
     "output_type": "display_data"
    },
    {
     "name": "stdout",
     "output_type": "stream",
     "text": [
      "Number of True Positives:  1\n"
     ]
    }
   ],
   "source": [
    "# Score on the training set was:0.8696969696969697\n",
    "clf = ExtraTreesClassifier(bootstrap=True, criterion=\"gini\", max_features=0.6000000000000001, min_samples_leaf=1, min_samples_split=8, n_estimators=100)\n",
    "\n",
    "model_response(clf)"
   ]
  },
  {
   "cell_type": "markdown",
   "metadata": {},
   "source": [
    "### TPOT Test 2"
   ]
  },
  {
   "cell_type": "code",
   "execution_count": 39,
   "metadata": {},
   "outputs": [],
   "source": [
    "X_train = features_train\n",
    "X_test = features_test\n",
    "y_train = labels_train\n",
    "y_test = labels_test"
   ]
  },
  {
   "cell_type": "code",
   "execution_count": 40,
   "metadata": {},
   "outputs": [
    {
     "name": "stdout",
     "output_type": "stream",
     "text": [
      "Warning: xgboost.XGBClassifier is not available and will not be used by TPOT.\n"
     ]
    }
   ],
   "source": [
    "pipeline_optimizer = TPOTClassifier()"
   ]
  },
  {
   "cell_type": "code",
   "execution_count": 41,
   "metadata": {},
   "outputs": [
    {
     "name": "stdout",
     "output_type": "stream",
     "text": [
      "Warning: xgboost.XGBClassifier is not available and will not be used by TPOT.\n"
     ]
    }
   ],
   "source": [
    "pipeline_optimizer = TPOTClassifier(generations=5, population_size=50, cv=5, random_state=42, verbosity=2)"
   ]
  },
  {
   "cell_type": "code",
   "execution_count": 42,
   "metadata": {},
   "outputs": [
    {
     "name": "stderr",
     "output_type": "stream",
     "text": []
    },
    {
     "name": "stdout",
     "output_type": "stream",
     "text": [
      "Generation 1 - Current best internal CV score: 0.8597402597402597\n"
     ]
    },
    {
     "name": "stderr",
     "output_type": "stream",
     "text": []
    },
    {
     "name": "stdout",
     "output_type": "stream",
     "text": [
      "Generation 2 - Current best internal CV score: 0.8597402597402597\n"
     ]
    },
    {
     "name": "stderr",
     "output_type": "stream",
     "text": []
    },
    {
     "name": "stdout",
     "output_type": "stream",
     "text": [
      "Generation 3 - Current best internal CV score: 0.8597402597402597\n"
     ]
    },
    {
     "name": "stderr",
     "output_type": "stream",
     "text": []
    },
    {
     "name": "stdout",
     "output_type": "stream",
     "text": [
      "Generation 4 - Current best internal CV score: 0.8688311688311687\n"
     ]
    },
    {
     "name": "stderr",
     "output_type": "stream",
     "text": []
    },
    {
     "name": "stdout",
     "output_type": "stream",
     "text": [
      "Generation 5 - Current best internal CV score: 0.8688311688311687\n"
     ]
    },
    {
     "name": "stderr",
     "output_type": "stream",
     "text": []
    },
    {
     "name": "stdout",
     "output_type": "stream",
     "text": [
      "\n",
      "Best pipeline: GradientBoostingClassifier(LogisticRegression(input_matrix, C=1.0, dual=False, penalty=l2), learning_rate=0.01, max_depth=6, max_features=0.1, min_samples_leaf=1, min_samples_split=13, n_estimators=100, subsample=0.6000000000000001)\n"
     ]
    },
    {
     "data": {
      "text/plain": [
       "TPOTClassifier(config_dict={'sklearn.naive_bayes.GaussianNB': {}, 'sklearn.naive_bayes.BernoulliNB': {'alpha': [0.001, 0.01, 0.1, 1.0, 10.0, 100.0], 'fit_prior': [True, False]}, 'sklearn.naive_bayes.MultinomialNB': {'alpha': [0.001, 0.01, 0.1, 1.0, 10.0, 100.0], 'fit_prior': [True, False]}, 'sklearn.tree.DecisionT....3 , 0.35, 0.4 , 0.45, 0.5 , 0.55,\n",
       "       0.6 , 0.65, 0.7 , 0.75, 0.8 , 0.85, 0.9 , 0.95, 1.  ])}}}},\n",
       "        crossover_rate=0.1, cv=5, disable_update_check=False,\n",
       "        early_stop=None, generations=5, max_eval_time_mins=5,\n",
       "        max_time_mins=None, memory=None, mutation_rate=0.9, n_jobs=1,\n",
       "        offspring_size=20, periodic_checkpoint_folder=None,\n",
       "        population_size=20, random_state=42, scoring=None, subsample=1.0,\n",
       "        verbosity=2, warm_start=False)"
      ]
     },
     "execution_count": 42,
     "metadata": {},
     "output_type": "execute_result"
    }
   ],
   "source": [
    "pipeline_optimizer.fit(X_train, y_train)"
   ]
  },
  {
   "cell_type": "code",
   "execution_count": 43,
   "metadata": {},
   "outputs": [
    {
     "data": {
      "text/plain": [
       "True"
      ]
     },
     "execution_count": 43,
     "metadata": {},
     "output_type": "execute_result"
    }
   ],
   "source": [
    "pipeline_optimizer.export('tpot_exported_pipeline.py')"
   ]
  },
  {
   "cell_type": "markdown",
   "metadata": {},
   "source": [
    "### TPOT Test 2 Manual Implementation Test"
   ]
  },
  {
   "cell_type": "code",
   "execution_count": 191,
   "metadata": {},
   "outputs": [
    {
     "name": "stdout",
     "output_type": "stream",
     "text": [
      "Score:  0.9069767441860465\n",
      "Test Set:  {0.0: 42, 1.0: 1}\n",
      "POIs in Test Set:  1\n",
      "Precision:  1.0\n",
      "Recall:  0.2\n",
      "Confusion matrix, without normalization\n"
     ]
    },
    {
     "data": {
      "image/png": "[encoded data removed]",
      "text/plain": [
       "<Figure size 432x288 with 2 Axes>"
      ]
     },
     "metadata": {},
     "output_type": "display_data"
    },
    {
     "name": "stdout",
     "output_type": "stream",
     "text": [
      "Number of True Positives:  1\n"
     ]
    }
   ],
   "source": [
    "from sklearn.ensemble import GradientBoostingClassifier\n",
    "from sklearn.linear_model import LogisticRegression\n",
    "from sklearn.model_selection import train_test_split\n",
    "from sklearn.pipeline import make_pipeline, make_union\n",
    "from tpot.builtins import StackingEstimator\n",
    "\n",
    "# Score on the training set was:0.8688311688311687\n",
    "clf = make_pipeline(\n",
    "    StackingEstimator(estimator=LogisticRegression(C=1.0, dual=False, penalty=\"l2\")),\n",
    "    GradientBoostingClassifier(learning_rate=0.01, max_depth=6, max_features=0.1, min_samples_leaf=1, min_samples_split=13, n_estimators=100, subsample=0.6000000000000001)\n",
    ")\n",
    "\n",
    "model_response(clf)"
   ]
  },
  {
   "cell_type": "code",
   "execution_count": null,
   "metadata": {},
   "outputs": [],
   "source": []
  },
  {
   "cell_type": "code",
   "execution_count": null,
   "metadata": {},
   "outputs": [],
   "source": []
  },
  {
   "cell_type": "code",
   "execution_count": null,
   "metadata": {},
   "outputs": [],
   "source": []
  },
  {
   "cell_type": "markdown",
   "metadata": {},
   "source": [
    "### Correlation Matrix to detect collinear features following feature engineering"
   ]
  },
  {
   "cell_type": "code",
   "execution_count": 45,
   "metadata": {},
   "outputs": [],
   "source": [
    "import matplotlib.pyplot as plt\n",
    "%matplotlib inline"
   ]
  },
  {
   "cell_type": "code",
   "execution_count": 46,
   "metadata": {},
   "outputs": [],
   "source": [
    "import seaborn as sns\n",
    "sns.set()"
   ]
  },
  {
   "cell_type": "code",
   "execution_count": 74,
   "metadata": {},
   "outputs": [],
   "source": [
    "sns.set(style=\"dark\")"
   ]
  },
  {
   "cell_type": "code",
   "execution_count": 75,
   "metadata": {},
   "outputs": [],
   "source": [
    "corr = df.corr()"
   ]
  },
  {
   "cell_type": "code",
   "execution_count": 76,
   "metadata": {},
   "outputs": [],
   "source": [
    "mask = np.zeros_like(corr, dtype=np.bool)"
   ]
  },
  {
   "cell_type": "code",
   "execution_count": 77,
   "metadata": {},
   "outputs": [],
   "source": [
    "mask[np.triu_indices_from(mask)] = True"
   ]
  },
  {
   "cell_type": "code",
   "execution_count": 78,
   "metadata": {},
   "outputs": [
    {
     "data": {
      "text/plain": [
       "<matplotlib.axes._subplots.AxesSubplot at 0x1fe71200b00>"
      ]
     },
     "execution_count": 78,
     "metadata": {},
     "output_type": "execute_result"
    },
    {
     "data": {
      "image/png": "[encoded data removed]",
      "text/plain": [
       "<Figure size 792x648 with 2 Axes>"
      ]
     },
     "metadata": {},
     "output_type": "display_data"
    }
   ],
   "source": [
    "f, ax = plt.subplots(figsize=(11, 9))\n",
    "cmap = sns.diverging_palette(220, 10, as_cmap=True)\n",
    "sns.heatmap(corr, mask=mask, cmap=cmap, vmax=.3, center=0,\n",
    "            square=True, linewidths=.5, cbar_kws={\"shrink\": .5})"
   ]
  },
  {
   "cell_type": "code",
   "execution_count": null,
   "metadata": {},
   "outputs": [],
   "source": []
  },
  {
   "cell_type": "code",
   "execution_count": null,
   "metadata": {},
   "outputs": [],
   "source": []
  },
  {
   "cell_type": "code",
   "execution_count": null,
   "metadata": {},
   "outputs": [],
   "source": []
  },
  {
   "cell_type": "code",
   "execution_count": null,
   "metadata": {},
   "outputs": [],
   "source": []
  },
  {
   "cell_type": "code",
   "execution_count": null,
   "metadata": {},
   "outputs": [],
   "source": []
  },
  {
   "cell_type": "code",
   "execution_count": null,
   "metadata": {},
   "outputs": [],
   "source": []
  },
  {
   "cell_type": "code",
   "execution_count": null,
   "metadata": {},
   "outputs": [],
   "source": []
  },
  {
   "cell_type": "markdown",
   "metadata": {},
   "source": [
    "# Resources"
   ]
  },
  {
   "cell_type": "code",
   "execution_count": 52,
   "metadata": {},
   "outputs": [],
   "source": [
    "resources = pd.read_csv('resources.csv')"
   ]
  },
  {
   "cell_type": "code",
   "execution_count": 53,
   "metadata": {},
   "outputs": [
    {
     "data": {
      "text/html": [
       "<div>\n",
       "<style scoped>\n",
       "    .dataframe tbody tr th:only-of-type {\n",
       "        vertical-align: middle;\n",
       "    }\n",
       "\n",
       "    .dataframe tbody tr th {\n",
       "        vertical-align: top;\n",
       "    }\n",
       "\n",
       "    .dataframe thead th {\n",
       "        text-align: right;\n",
       "    }\n",
       "</style>\n",
       "<table border=\"1\" class=\"dataframe\">\n",
       "  <thead>\n",
       "    <tr style=\"text-align: right;\">\n",
       "      <th></th>\n",
       "      <th>title</th>\n",
       "      <th>author</th>\n",
       "      <th>url</th>\n",
       "    </tr>\n",
       "  </thead>\n",
       "  <tbody>\n",
       "    <tr>\n",
       "      <th>0</th>\n",
       "      <td>An Introduction to Feature Selection</td>\n",
       "      <td>Jason Brownlee</td>\n",
       "      <td>https://machinelearningmastery.com/an-introduc...</td>\n",
       "    </tr>\n",
       "    <tr>\n",
       "      <th>1</th>\n",
       "      <td>A Feature Selection Tool for Machine Learning ...</td>\n",
       "      <td>William Koehrsen</td>\n",
       "      <td>https://towardsdatascience.com/a-feature-selec...</td>\n",
       "    </tr>\n",
       "    <tr>\n",
       "      <th>2</th>\n",
       "      <td>Machine Learning with Scikit-Learn - 42 - Auto...</td>\n",
       "      <td>Cristi Vlad</td>\n",
       "      <td>https://www.youtube.com/watch?v=RXFnwCRb-is</td>\n",
       "    </tr>\n",
       "    <tr>\n",
       "      <th>3</th>\n",
       "      <td>scikit-learn v0.19.2 Section 1.13 Feature Sele...</td>\n",
       "      <td>NaN</td>\n",
       "      <td>http://scikit-learn.org/stable/modules/feature...</td>\n",
       "    </tr>\n",
       "    <tr>\n",
       "      <th>4</th>\n",
       "      <td>The Ultimate Python Seaborn Tutorial</td>\n",
       "      <td>NaN</td>\n",
       "      <td>https://elitedatascience.com/python-seaborn-tu...</td>\n",
       "    </tr>\n",
       "    <tr>\n",
       "      <th>5</th>\n",
       "      <td>Plotting a diagonal correlation matrix</td>\n",
       "      <td>Michael Waskom</td>\n",
       "      <td>https://seaborn.pydata.org/examples/many_pairw...</td>\n",
       "    </tr>\n",
       "    <tr>\n",
       "      <th>6</th>\n",
       "      <td>Visualization with Seaborn</td>\n",
       "      <td>Jake VanderPlas</td>\n",
       "      <td>https://jakevdp.github.io/PythonDataScienceHan...</td>\n",
       "    </tr>\n",
       "  </tbody>\n",
       "</table>\n",
       "</div>"
      ],
      "text/plain": [
       "                                               title            author  \\\n",
       "0               An Introduction to Feature Selection    Jason Brownlee   \n",
       "1  A Feature Selection Tool for Machine Learning ...  William Koehrsen   \n",
       "2  Machine Learning with Scikit-Learn - 42 - Auto...       Cristi Vlad   \n",
       "3  scikit-learn v0.19.2 Section 1.13 Feature Sele...               NaN   \n",
       "4               The Ultimate Python Seaborn Tutorial               NaN   \n",
       "5             Plotting a diagonal correlation matrix    Michael Waskom   \n",
       "6                         Visualization with Seaborn   Jake VanderPlas   \n",
       "\n",
       "                                                 url  \n",
       "0  https://machinelearningmastery.com/an-introduc...  \n",
       "1  https://towardsdatascience.com/a-feature-selec...  \n",
       "2        https://www.youtube.com/watch?v=RXFnwCRb-is  \n",
       "3  http://scikit-learn.org/stable/modules/feature...  \n",
       "4  https://elitedatascience.com/python-seaborn-tu...  \n",
       "5  https://seaborn.pydata.org/examples/many_pairw...  \n",
       "6  https://jakevdp.github.io/PythonDataScienceHan...  "
      ]
     },
     "execution_count": 53,
     "metadata": {},
     "output_type": "execute_result"
    }
   ],
   "source": [
    "resources"
   ]
  },
  {
   "cell_type": "code",
   "execution_count": 54,
   "metadata": {},
   "outputs": [
    {
     "data": {
      "text/plain": [
       "'https://towardsdatascience.com/a-feature-selection-tool-for-machine-learning-in-python-b64dd23710f0'"
      ]
     },
     "execution_count": 54,
     "metadata": {},
     "output_type": "execute_result"
    }
   ],
   "source": [
    "resources.iloc[1][2]"
   ]
  },
  {
   "cell_type": "code",
   "execution_count": null,
   "metadata": {},
   "outputs": [],
   "source": []
  }
 ],
 "metadata": {
  "kernelspec": {
   "display_name": "Python 3",
   "language": "python",
   "name": "python3"
  },
  "language_info": {
   "codemirror_mode": {
    "name": "ipython",
    "version": 3
   },
   "file_extension": ".py",
   "mimetype": "text/x-python",
   "name": "python",
   "nbconvert_exporter": "python",
   "pygments_lexer": "ipython3",
   "version": "3.6.6"
  }
 },
 "nbformat": 4,
 "nbformat_minor": 2
}
